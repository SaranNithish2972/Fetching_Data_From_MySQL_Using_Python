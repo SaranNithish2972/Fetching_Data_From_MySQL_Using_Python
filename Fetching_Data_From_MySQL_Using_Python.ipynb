{
 "cells": [
  {
   "cell_type": "markdown",
   "id": "88a58eba",
   "metadata": {},
   "source": [
    "# Using Python to fetch Data from SQL"
   ]
  },
  {
   "cell_type": "code",
   "execution_count": null,
   "id": "2421dda0",
   "metadata": {},
   "outputs": [],
   "source": [
    "import mysql.connector\n",
    "import pandas as pd"
   ]
  },
  {
   "cell_type": "code",
   "execution_count": 2,
   "id": "fe821383",
   "metadata": {},
   "outputs": [],
   "source": [
    "conn = mysql.connector.connect(host=\"localhost\",user=\"root\", password=\"\")"
   ]
  },
  {
   "cell_type": "code",
   "execution_count": 3,
   "id": "e3741e3d",
   "metadata": {},
   "outputs": [
    {
     "name": "stdout",
     "output_type": "stream",
     "text": [
      "Database Created\n"
     ]
    }
   ],
   "source": [
    "mycursor = conn.cursor()\n",
    "mycursor.execute(\"drop database if exists sqlpython\")\n",
    "mycursor.execute(\"create database sqlpython\")\n",
    "print (\"Database Created\")"
   ]
  },
  {
   "cell_type": "code",
   "execution_count": 5,
   "id": "2244a7a5",
   "metadata": {},
   "outputs": [],
   "source": [
    "conn = mysql.connector.connect(host=\"localhost\",user=\"root\", password=\"\", database = \"sqlpython\")\n",
    "mycursor = conn.cursor()"
   ]
  },
  {
   "cell_type": "code",
   "execution_count": 6,
   "id": "ce89927d",
   "metadata": {},
   "outputs": [
    {
     "name": "stdout",
     "output_type": "stream",
     "text": [
      "Table created\n"
     ]
    }
   ],
   "source": [
    "mycursor.execute(\"create table employee(id int auto_increment primary key, name varchar(25), age varchar (3), mobile varchar (10) )\")\n",
    "print (\"Table created\")"
   ]
  },
  {
   "cell_type": "code",
   "execution_count": 7,
   "id": "962488c4",
   "metadata": {},
   "outputs": [],
   "source": [
    "sql = \"insert into employee(name, age, mobile) values('Saran', '20','9566472007'),('Nithish', '22','9977889988'),('Ram','30','912345678'),('Ravi','31','911345678'),('Akash','20','912355678'),('Raju','31','912345679'),('Bharath','24','912245678'),('Deva','36','918345678'),('Gokul','40','999345678'),('Mahesh','29','912349778')\"\n",
    "mycursor.execute(sql)\n",
    "conn.commit()"
   ]
  },
  {
   "cell_type": "code",
   "execution_count": 8,
   "id": "1220da58",
   "metadata": {},
   "outputs": [
    {
     "name": "stdout",
     "output_type": "stream",
     "text": [
      "[(1, 'Saran', '20', '9566472007'), (2, 'Nithish', '22', '9977889988'), (3, 'Ram', '30', '912345678'), (4, 'Ravi', '31', '911345678'), (5, 'Akash', '20', '912355678'), (6, 'Raju', '31', '912345679'), (7, 'Bharath', '24', '912245678'), (8, 'Deva', '36', '918345678'), (9, 'Gokul', '40', '999345678'), (10, 'Mahesh', '29', '912349778')]\n"
     ]
    }
   ],
   "source": [
    "mycursor.execute(\"select * from employee\")\n",
    "myresult = mycursor.fetchall()\n",
    "print(myresult)"
   ]
  },
  {
   "cell_type": "code",
   "execution_count": 13,
   "id": "55891f80",
   "metadata": {},
   "outputs": [
    {
     "name": "stderr",
     "output_type": "stream",
     "text": [
      "C:\\Users\\hp\\anaconda3\\lib\\site-packages\\pandas\\io\\sql.py:761: UserWarning: pandas only support SQLAlchemy connectable(engine/connection) ordatabase string URI or sqlite3 DBAPI2 connectionother DBAPI2 objects are not tested, please consider using SQLAlchemy\n",
      "  warnings.warn(\n"
     ]
    },
    {
     "data": {
      "text/html": [
       "<div>\n",
       "<style scoped>\n",
       "    .dataframe tbody tr th:only-of-type {\n",
       "        vertical-align: middle;\n",
       "    }\n",
       "\n",
       "    .dataframe tbody tr th {\n",
       "        vertical-align: top;\n",
       "    }\n",
       "\n",
       "    .dataframe thead th {\n",
       "        text-align: right;\n",
       "    }\n",
       "</style>\n",
       "<table border=\"1\" class=\"dataframe\">\n",
       "  <thead>\n",
       "    <tr style=\"text-align: right;\">\n",
       "      <th></th>\n",
       "      <th>id</th>\n",
       "      <th>name</th>\n",
       "      <th>age</th>\n",
       "      <th>mobile</th>\n",
       "    </tr>\n",
       "  </thead>\n",
       "  <tbody>\n",
       "    <tr>\n",
       "      <th>0</th>\n",
       "      <td>1</td>\n",
       "      <td>Saran</td>\n",
       "      <td>20</td>\n",
       "      <td>9566472007</td>\n",
       "    </tr>\n",
       "    <tr>\n",
       "      <th>1</th>\n",
       "      <td>2</td>\n",
       "      <td>Nithish</td>\n",
       "      <td>21</td>\n",
       "      <td>9977889988</td>\n",
       "    </tr>\n",
       "    <tr>\n",
       "      <th>2</th>\n",
       "      <td>3</td>\n",
       "      <td>Ram</td>\n",
       "      <td>30</td>\n",
       "      <td>912345678</td>\n",
       "    </tr>\n",
       "    <tr>\n",
       "      <th>3</th>\n",
       "      <td>4</td>\n",
       "      <td>Ravi</td>\n",
       "      <td>31</td>\n",
       "      <td>911345678</td>\n",
       "    </tr>\n",
       "    <tr>\n",
       "      <th>4</th>\n",
       "      <td>5</td>\n",
       "      <td>Akash</td>\n",
       "      <td>20</td>\n",
       "      <td>912355678</td>\n",
       "    </tr>\n",
       "    <tr>\n",
       "      <th>5</th>\n",
       "      <td>6</td>\n",
       "      <td>Raju</td>\n",
       "      <td>31</td>\n",
       "      <td>912345679</td>\n",
       "    </tr>\n",
       "    <tr>\n",
       "      <th>6</th>\n",
       "      <td>7</td>\n",
       "      <td>Bharath</td>\n",
       "      <td>24</td>\n",
       "      <td>912245678</td>\n",
       "    </tr>\n",
       "    <tr>\n",
       "      <th>7</th>\n",
       "      <td>8</td>\n",
       "      <td>Deva</td>\n",
       "      <td>36</td>\n",
       "      <td>918345678</td>\n",
       "    </tr>\n",
       "    <tr>\n",
       "      <th>8</th>\n",
       "      <td>9</td>\n",
       "      <td>Gokul</td>\n",
       "      <td>40</td>\n",
       "      <td>999345678</td>\n",
       "    </tr>\n",
       "    <tr>\n",
       "      <th>9</th>\n",
       "      <td>10</td>\n",
       "      <td>Mahesh</td>\n",
       "      <td>29</td>\n",
       "      <td>912349778</td>\n",
       "    </tr>\n",
       "  </tbody>\n",
       "</table>\n",
       "</div>"
      ],
      "text/plain": [
       "   id     name age      mobile\n",
       "0   1    Saran  20  9566472007\n",
       "1   2  Nithish  21  9977889988\n",
       "2   3      Ram  30   912345678\n",
       "3   4     Ravi  31   911345678\n",
       "4   5    Akash  20   912355678\n",
       "5   6     Raju  31   912345679\n",
       "6   7  Bharath  24   912245678\n",
       "7   8     Deva  36   918345678\n",
       "8   9    Gokul  40   999345678\n",
       "9  10   Mahesh  29   912349778"
      ]
     },
     "execution_count": 13,
     "metadata": {},
     "output_type": "execute_result"
    }
   ],
   "source": [
    "rawdata = pd.read_sql_query(\"select * from employee\",conn)\n",
    "rawdata"
   ]
  },
  {
   "cell_type": "code",
   "execution_count": 14,
   "id": "cdeb90f9",
   "metadata": {},
   "outputs": [],
   "source": [
    "mycursor.execute(\"update employee set age='22' where age='21'\")\n",
    "conn.commit()"
   ]
  },
  {
   "cell_type": "code",
   "execution_count": 15,
   "id": "2ffbf9b9",
   "metadata": {},
   "outputs": [
    {
     "name": "stderr",
     "output_type": "stream",
     "text": [
      "C:\\Users\\hp\\anaconda3\\lib\\site-packages\\pandas\\io\\sql.py:761: UserWarning: pandas only support SQLAlchemy connectable(engine/connection) ordatabase string URI or sqlite3 DBAPI2 connectionother DBAPI2 objects are not tested, please consider using SQLAlchemy\n",
      "  warnings.warn(\n"
     ]
    },
    {
     "data": {
      "text/html": [
       "<div>\n",
       "<style scoped>\n",
       "    .dataframe tbody tr th:only-of-type {\n",
       "        vertical-align: middle;\n",
       "    }\n",
       "\n",
       "    .dataframe tbody tr th {\n",
       "        vertical-align: top;\n",
       "    }\n",
       "\n",
       "    .dataframe thead th {\n",
       "        text-align: right;\n",
       "    }\n",
       "</style>\n",
       "<table border=\"1\" class=\"dataframe\">\n",
       "  <thead>\n",
       "    <tr style=\"text-align: right;\">\n",
       "      <th></th>\n",
       "      <th>id</th>\n",
       "      <th>name</th>\n",
       "      <th>age</th>\n",
       "      <th>mobile</th>\n",
       "    </tr>\n",
       "  </thead>\n",
       "  <tbody>\n",
       "    <tr>\n",
       "      <th>0</th>\n",
       "      <td>1</td>\n",
       "      <td>Saran</td>\n",
       "      <td>20</td>\n",
       "      <td>9566472007</td>\n",
       "    </tr>\n",
       "    <tr>\n",
       "      <th>1</th>\n",
       "      <td>2</td>\n",
       "      <td>Nithish</td>\n",
       "      <td>22</td>\n",
       "      <td>9977889988</td>\n",
       "    </tr>\n",
       "    <tr>\n",
       "      <th>2</th>\n",
       "      <td>3</td>\n",
       "      <td>Ram</td>\n",
       "      <td>30</td>\n",
       "      <td>912345678</td>\n",
       "    </tr>\n",
       "    <tr>\n",
       "      <th>3</th>\n",
       "      <td>4</td>\n",
       "      <td>Ravi</td>\n",
       "      <td>31</td>\n",
       "      <td>911345678</td>\n",
       "    </tr>\n",
       "    <tr>\n",
       "      <th>4</th>\n",
       "      <td>5</td>\n",
       "      <td>Akash</td>\n",
       "      <td>20</td>\n",
       "      <td>912355678</td>\n",
       "    </tr>\n",
       "    <tr>\n",
       "      <th>5</th>\n",
       "      <td>6</td>\n",
       "      <td>Raju</td>\n",
       "      <td>31</td>\n",
       "      <td>912345679</td>\n",
       "    </tr>\n",
       "    <tr>\n",
       "      <th>6</th>\n",
       "      <td>7</td>\n",
       "      <td>Bharath</td>\n",
       "      <td>24</td>\n",
       "      <td>912245678</td>\n",
       "    </tr>\n",
       "    <tr>\n",
       "      <th>7</th>\n",
       "      <td>8</td>\n",
       "      <td>Deva</td>\n",
       "      <td>36</td>\n",
       "      <td>918345678</td>\n",
       "    </tr>\n",
       "    <tr>\n",
       "      <th>8</th>\n",
       "      <td>9</td>\n",
       "      <td>Gokul</td>\n",
       "      <td>40</td>\n",
       "      <td>999345678</td>\n",
       "    </tr>\n",
       "    <tr>\n",
       "      <th>9</th>\n",
       "      <td>10</td>\n",
       "      <td>Mahesh</td>\n",
       "      <td>29</td>\n",
       "      <td>912349778</td>\n",
       "    </tr>\n",
       "  </tbody>\n",
       "</table>\n",
       "</div>"
      ],
      "text/plain": [
       "   id     name age      mobile\n",
       "0   1    Saran  20  9566472007\n",
       "1   2  Nithish  22  9977889988\n",
       "2   3      Ram  30   912345678\n",
       "3   4     Ravi  31   911345678\n",
       "4   5    Akash  20   912355678\n",
       "5   6     Raju  31   912345679\n",
       "6   7  Bharath  24   912245678\n",
       "7   8     Deva  36   918345678\n",
       "8   9    Gokul  40   999345678\n",
       "9  10   Mahesh  29   912349778"
      ]
     },
     "execution_count": 15,
     "metadata": {},
     "output_type": "execute_result"
    }
   ],
   "source": [
    "rawdata = pd.read_sql_query(\"select * from employee\",conn)\n",
    "rawdata"
   ]
  },
  {
   "cell_type": "code",
   "execution_count": 16,
   "id": "b221f836",
   "metadata": {},
   "outputs": [
    {
     "name": "stdout",
     "output_type": "stream",
     "text": [
      "<class 'pandas.core.frame.DataFrame'>\n",
      "RangeIndex: 10 entries, 0 to 9\n",
      "Data columns (total 4 columns):\n",
      " #   Column  Non-Null Count  Dtype \n",
      "---  ------  --------------  ----- \n",
      " 0   id      10 non-null     int64 \n",
      " 1   name    10 non-null     object\n",
      " 2   age     10 non-null     object\n",
      " 3   mobile  10 non-null     object\n",
      "dtypes: int64(1), object(3)\n",
      "memory usage: 448.0+ bytes\n"
     ]
    }
   ],
   "source": [
    "rawdata.info()"
   ]
  },
  {
   "cell_type": "code",
   "execution_count": 18,
   "id": "af59ef43",
   "metadata": {},
   "outputs": [
    {
     "data": {
      "text/plain": [
       "False"
      ]
     },
     "execution_count": 18,
     "metadata": {},
     "output_type": "execute_result"
    }
   ],
   "source": [
    "rawdata.isna().values.any()"
   ]
  }
 ],
 "metadata": {
  "kernelspec": {
   "display_name": "Python 3 (ipykernel)",
   "language": "python",
   "name": "python3"
  },
  "language_info": {
   "codemirror_mode": {
    "name": "ipython",
    "version": 3
   },
   "file_extension": ".py",
   "mimetype": "text/x-python",
   "name": "python",
   "nbconvert_exporter": "python",
   "pygments_lexer": "ipython3",
   "version": "3.9.12"
  }
 },
 "nbformat": 4,
 "nbformat_minor": 5
}
